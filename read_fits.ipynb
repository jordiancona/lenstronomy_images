{
 "cells": [
  {
   "cell_type": "code",
   "execution_count": 11,
   "metadata": {},
   "outputs": [],
   "source": [
    "import matplotlib.pyplot as plt\n",
    "from astropy.io import fits"
   ]
  },
  {
   "cell_type": "markdown",
   "metadata": {},
   "source": [
    "Se abre el archivo fits. y se imprime su información."
   ]
  },
  {
   "cell_type": "code",
   "execution_count": 12,
   "metadata": {},
   "outputs": [
    {
     "name": "stdout",
     "output_type": "stream",
     "text": [
      "Filename: mock_36424930442626155.fits\n",
      "No.    Name      Ver    Type      Cards   Dimensions   Format\n",
      "  0  PRIMARY       1 PrimaryHDU      15   (400, 400)   float32   \n",
      "None\n"
     ]
    }
   ],
   "source": [
    "file = 'mock_36424930442626155.fits'\n",
    "hdu_list = fits.open(file)\n",
    "print(hdu_list.info())\n",
    "image_data = fits.getdata(file)"
   ]
  },
  {
   "cell_type": "markdown",
   "metadata": {},
   "source": [
    "Se imprimen los parámetros de la lente guardados en el archivo fits."
   ]
  },
  {
   "cell_type": "code",
   "execution_count": 13,
   "metadata": {},
   "outputs": [
    {
     "name": "stdout",
     "output_type": "stream",
     "text": [
      "El radio de Einstein es: 1\n",
      "El primer componente del corte es: 0.05\n"
     ]
    }
   ],
   "source": [
    "mock_hdr = hdu_list[0].header\n",
    "r_einstein = mock_hdr['theta_E']\n",
    "gamma1 = mock_hdr['gamma1']\n",
    "print(f'El radio de Einstein es: {r_einstein}')\n",
    "print(f'El primer componente del corte es: {gamma1}')"
   ]
  }
 ],
 "metadata": {
  "kernelspec": {
   "display_name": "Python 3",
   "language": "python",
   "name": "python3"
  },
  "language_info": {
   "codemirror_mode": {
    "name": "ipython",
    "version": 3
   },
   "file_extension": ".py",
   "mimetype": "text/x-python",
   "name": "python",
   "nbconvert_exporter": "python",
   "pygments_lexer": "ipython3",
   "version": "3.11.6"
  }
 },
 "nbformat": 4,
 "nbformat_minor": 2
}
