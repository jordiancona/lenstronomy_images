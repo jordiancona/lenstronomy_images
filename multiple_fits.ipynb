{
 "cells": [
  {
   "cell_type": "code",
   "execution_count": 1,
   "metadata": {},
   "outputs": [],
   "source": [
    "import os\n",
    "import numpy as np\n",
    "from astropy.io import fits\n",
    "from time import gmtime, strftime"
   ]
  },
  {
   "cell_type": "markdown",
   "metadata": {},
   "source": [
    "Se leen los archivos fits y se guardan en uno sólo."
   ]
  },
  {
   "cell_type": "code",
   "execution_count": 2,
   "metadata": {},
   "outputs": [],
   "source": [
    "files = []\n",
    "path = './fits/'\n",
    "for file in os.listdir(path):\n",
    "    if file.endswith('.fits'):\n",
    "        files.append(file)"
   ]
  },
  {
   "cell_type": "code",
   "execution_count": 4,
   "metadata": {},
   "outputs": [],
   "source": [
    "images_hdus = []\n",
    "\n",
    "for file in files:\n",
    "    with fits.open(path + file) as hdul:\n",
    "        if not isinstance(hdul[0], fits.ImageHDU):\n",
    "            image_hdu = fits.ImageHDU(header = hdul[0].header , data = hdul[0].data)\n",
    "            images_hdus.append(image_hdu)\n",
    "        else:\n",
    "            images_hdus.append(hdul[0].copy())\n",
    "\n",
    "first_file_time = strftime('%Y-%m-%d %H:%M:%S', gmtime())\n",
    "hdr = fits.Header()\n",
    "hdr['DATE'] = first_file_time\n",
    "hdr['COMMENT'] = 'General file of fits.'\n",
    "primary_hdu = fits.PrimaryHDU(header = hdr)\n",
    "\n",
    "hdu = fits.HDUList([primary_hdu] + images_hdus)"
   ]
  },
  {
   "cell_type": "markdown",
   "metadata": {},
   "source": [
    "Se revisa si se guardan los datos de los archivos del header principal."
   ]
  },
  {
   "cell_type": "code",
   "execution_count": 9,
   "metadata": {},
   "outputs": [
    {
     "name": "stdout",
     "output_type": "stream",
     "text": [
      "Filename: (No file associated with this HDUList)\n",
      "No.    Name      Ver    Type      Cards   Dimensions   Format\n",
      "  0  PRIMARY       1 PrimaryHDU       6   ()      \n",
      "  1                1 ImageHDU         5   ()      \n",
      "  2                1 ImageHDU         5   ()      \n",
      "  3                1 ImageHDU         5   ()      \n"
     ]
    },
    {
     "ename": "TypeError",
     "evalue": "'ImageHDU' object is not subscriptable",
     "output_type": "error",
     "traceback": [
      "\u001b[0;31m---------------------------------------------------------------------------\u001b[0m",
      "\u001b[0;31mTypeError\u001b[0m                                 Traceback (most recent call last)",
      "Cell \u001b[0;32mIn[9], line 4\u001b[0m\n\u001b[1;32m      1\u001b[0m hdu\u001b[38;5;241m.\u001b[39minfo()\n\u001b[1;32m      3\u001b[0m file_1 \u001b[38;5;241m=\u001b[39m hdu[\u001b[38;5;241m1\u001b[39m]\n\u001b[0;32m----> 4\u001b[0m hdr_1 \u001b[38;5;241m=\u001b[39m \u001b[43mfile_1\u001b[49m\u001b[43m[\u001b[49m\u001b[38;5;241;43m0\u001b[39;49m\u001b[43m]\u001b[49m\u001b[38;5;241m.\u001b[39mheader\n\u001b[1;32m      5\u001b[0m gamma_1 \u001b[38;5;241m=\u001b[39m hdr_1[\u001b[38;5;124m'\u001b[39m\u001b[38;5;124mgamma1\u001b[39m\u001b[38;5;124m'\u001b[39m]\n\u001b[1;32m      7\u001b[0m \u001b[38;5;28mprint\u001b[39m(\u001b[38;5;124mf\u001b[39m\u001b[38;5;124m'\u001b[39m\u001b[38;5;124mEl radio de Einstein es: \u001b[39m\u001b[38;5;132;01m{\u001b[39;00mgamma_1\u001b[38;5;132;01m}\u001b[39;00m\u001b[38;5;124m'\u001b[39m)\n",
      "\u001b[0;31mTypeError\u001b[0m: 'ImageHDU' object is not subscriptable"
     ]
    }
   ],
   "source": [
    "hdu.info()\n",
    "\n",
    "file_1 = hdu[1]\n",
    "hdr_1 = file_1[0].header\n",
    "gamma_1 = hdr_1['gamma1']\n",
    "\n",
    "print(f'El radio de Einstein es: {gamma_1}')"
   ]
  },
  {
   "cell_type": "code",
   "execution_count": 94,
   "metadata": {},
   "outputs": [
    {
     "ename": "VerifyError",
     "evalue": "\nVerification reported errors:\nHDUList's element 1 is not an extension HDU.\nNote: astropy.io.fits uses zero-based indexing.\n",
     "output_type": "error",
     "traceback": [
      "\u001b[0;31m---------------------------------------------------------------------------\u001b[0m",
      "\u001b[0;31mVerifyError\u001b[0m                               Traceback (most recent call last)",
      "Cell \u001b[0;32mIn[94], line 1\u001b[0m\n\u001b[0;32m----> 1\u001b[0m \u001b[43mhdu\u001b[49m\u001b[38;5;241;43m.\u001b[39;49m\u001b[43mwriteto\u001b[49m\u001b[43m(\u001b[49m\u001b[38;5;124;43m'\u001b[39;49m\u001b[38;5;124;43mprimary_fits_images.fits\u001b[39;49m\u001b[38;5;124;43m'\u001b[39;49m\u001b[43m,\u001b[49m\u001b[43m \u001b[49m\u001b[43moverwrite\u001b[49m\u001b[43m \u001b[49m\u001b[38;5;241;43m=\u001b[39;49m\u001b[43m \u001b[49m\u001b[38;5;28;43;01mTrue\u001b[39;49;00m\u001b[43m)\u001b[49m\n\u001b[1;32m      3\u001b[0m \u001b[38;5;28;01mfor\u001b[39;00m i, hdu \u001b[38;5;129;01min\u001b[39;00m \u001b[38;5;28menumerate\u001b[39m(hdu):\n\u001b[1;32m      4\u001b[0m     \u001b[38;5;28mprint\u001b[39m(i, \u001b[38;5;28mtype\u001b[39m(hdu))\n",
      "File \u001b[0;32m/usr/local/lib/python3.11/site-packages/astropy/io/fits/hdu/hdulist.py:1013\u001b[0m, in \u001b[0;36mHDUList.writeto\u001b[0;34m(self, fileobj, output_verify, overwrite, checksum)\u001b[0m\n\u001b[1;32m   1010\u001b[0m     warnings\u001b[38;5;241m.\u001b[39mwarn(\u001b[38;5;124m\"\u001b[39m\u001b[38;5;124mThere is nothing to write.\u001b[39m\u001b[38;5;124m\"\u001b[39m, AstropyUserWarning)\n\u001b[1;32m   1011\u001b[0m     \u001b[38;5;28;01mreturn\u001b[39;00m\n\u001b[0;32m-> 1013\u001b[0m \u001b[38;5;28;43mself\u001b[39;49m\u001b[38;5;241;43m.\u001b[39;49m\u001b[43mverify\u001b[49m\u001b[43m(\u001b[49m\u001b[43moption\u001b[49m\u001b[38;5;241;43m=\u001b[39;49m\u001b[43moutput_verify\u001b[49m\u001b[43m)\u001b[49m\n\u001b[1;32m   1015\u001b[0m \u001b[38;5;66;03m# make sure the EXTEND keyword is there if there is extension\u001b[39;00m\n\u001b[1;32m   1016\u001b[0m \u001b[38;5;28mself\u001b[39m\u001b[38;5;241m.\u001b[39mupdate_extend()\n",
      "File \u001b[0;32m/usr/local/lib/python3.11/site-packages/astropy/io/fits/verify.py:128\u001b[0m, in \u001b[0;36m_Verify.verify\u001b[0;34m(self, option)\u001b[0m\n\u001b[1;32m    126\u001b[0m         warnings\u001b[38;5;241m.\u001b[39mwarn(line, VerifyWarning)\n\u001b[1;32m    127\u001b[0m \u001b[38;5;28;01melse\u001b[39;00m:\n\u001b[0;32m--> 128\u001b[0m     \u001b[38;5;28;01mraise\u001b[39;00m VerifyError(\u001b[38;5;124m\"\u001b[39m\u001b[38;5;130;01m\\n\u001b[39;00m\u001b[38;5;124m\"\u001b[39m \u001b[38;5;241m+\u001b[39m \u001b[38;5;124m\"\u001b[39m\u001b[38;5;130;01m\\n\u001b[39;00m\u001b[38;5;124m\"\u001b[39m\u001b[38;5;241m.\u001b[39mjoin(messages))\n",
      "\u001b[0;31mVerifyError\u001b[0m: \nVerification reported errors:\nHDUList's element 1 is not an extension HDU.\nNote: astropy.io.fits uses zero-based indexing.\n"
     ]
    }
   ],
   "source": [
    "hdu.writeto('primary_fits_images.fits', overwrite = True)\n",
    "\n",
    "for i, hdu in enumerate(hdu):\n",
    "    print(i, type(hdu))"
   ]
  },
  {
   "cell_type": "code",
   "execution_count": null,
   "metadata": {},
   "outputs": [],
   "source": []
  }
 ],
 "metadata": {
  "kernelspec": {
   "display_name": "Python 3",
   "language": "python",
   "name": "python3"
  },
  "language_info": {
   "codemirror_mode": {
    "name": "ipython",
    "version": 3
   },
   "file_extension": ".py",
   "mimetype": "text/x-python",
   "name": "python",
   "nbconvert_exporter": "python",
   "pygments_lexer": "ipython3",
   "version": "3.11.6"
  }
 },
 "nbformat": 4,
 "nbformat_minor": 2
}
