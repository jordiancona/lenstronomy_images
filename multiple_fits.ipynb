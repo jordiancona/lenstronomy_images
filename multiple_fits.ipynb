{
 "cells": [
  {
   "cell_type": "code",
   "execution_count": 2,
   "metadata": {},
   "outputs": [],
   "source": [
    "import os\n",
    "import numpy as np\n",
    "from astropy.io import fits\n",
    "from time import gmtime, strftime"
   ]
  },
  {
   "cell_type": "markdown",
   "metadata": {},
   "source": [
    "Se leen los archivos fits y se guardan en una lista."
   ]
  },
  {
   "cell_type": "code",
   "execution_count": 3,
   "metadata": {},
   "outputs": [],
   "source": [
    "files = []\n",
    "path = './fits/'\n",
    "for file in os.listdir(path):\n",
    "    if file.endswith('.fits'):\n",
    "        files.append(file)"
   ]
  },
  {
   "cell_type": "code",
   "execution_count": 4,
   "metadata": {},
   "outputs": [],
   "source": [
    "images_hdus = []\n",
    "\n",
    "for file in files:\n",
    "    with fits.open(path + file) as hdul:\n",
    "        if not isinstance(hdul[0], fits.ImageHDU):\n",
    "            image_hdu = fits.ImageHDU(header = hdul[0].header , data = hdul[0].data)\n",
    "            images_hdus.append(image_hdu)\n",
    "        else:\n",
    "            images_hdus.append(hdul[0].copy())\n",
    "\n",
    "first_file_time = strftime('%Y-%m-%d %H:%M:%S', gmtime())\n",
    "hdr = fits.Header()\n",
    "hdr['DATE'] = first_file_time\n",
    "hdr['COMMENT'] = 'General file of fits.'\n",
    "primary_hdu = fits.PrimaryHDU(header = hdr)\n",
    "\n",
    "hdu = fits.HDUList([primary_hdu] + images_hdus)"
   ]
  },
  {
   "cell_type": "markdown",
   "metadata": {},
   "source": [
    "Se revisa si se guardan los datos de los archivos del header principal."
   ]
  },
  {
   "cell_type": "code",
   "execution_count": 5,
   "metadata": {},
   "outputs": [
    {
     "name": "stdout",
     "output_type": "stream",
     "text": [
      "Filename: (No file associated with this HDUList)\n",
      "No.    Name      Ver    Type      Cards   Dimensions   Format\n",
      "  0  PRIMARY       1 PrimaryHDU       6   ()      \n",
      "  1                1 ImageHDU        16   (4, 400, 400)   float32   \n",
      "  2                1 ImageHDU        16   (4, 400, 400)   float32   \n",
      "  3                1 ImageHDU        16   (4, 400, 400)   float32   \n",
      "El radio de Einstein es: 0.05\n"
     ]
    }
   ],
   "source": [
    "hdu.info()\n",
    "\n",
    "file_1 = hdu[1]\n",
    "hdr_1 = file_1.header\n",
    "gamma_1 = hdr_1['gamma1']\n",
    "\n",
    "print(f'El radio de Einstein es: {gamma_1}')"
   ]
  },
  {
   "cell_type": "code",
   "execution_count": 6,
   "metadata": {},
   "outputs": [],
   "source": [
    "hdu.writeto('primary_fits_images.fits', overwrite = True)"
   ]
  }
 ],
 "metadata": {
  "kernelspec": {
   "display_name": "Python 3",
   "language": "python",
   "name": "python3"
  },
  "language_info": {
   "codemirror_mode": {
    "name": "ipython",
    "version": 3
   },
   "file_extension": ".py",
   "mimetype": "text/x-python",
   "name": "python",
   "nbconvert_exporter": "python",
   "pygments_lexer": "ipython3",
   "version": "3.13.0"
  }
 },
 "nbformat": 4,
 "nbformat_minor": 2
}
